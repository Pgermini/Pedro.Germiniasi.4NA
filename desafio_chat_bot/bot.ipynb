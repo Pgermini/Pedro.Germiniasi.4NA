{
 "cells": [
  {
   "cell_type": "code",
   "execution_count": 1,
   "id": "698bcf35",
   "metadata": {},
   "outputs": [
    {
     "name": "stdout",
     "output_type": "stream",
     "text": [
      "Requirement already satisfied: requests in /home/codespace/.local/lib/python3.12/site-packages (2.32.3)\n",
      "Requirement already satisfied: charset-normalizer<4,>=2 in /home/codespace/.local/lib/python3.12/site-packages (from requests) (3.4.1)\n",
      "Requirement already satisfied: idna<4,>=2.5 in /home/codespace/.local/lib/python3.12/site-packages (from requests) (3.10)\n",
      "Requirement already satisfied: urllib3<3,>=1.21.1 in /home/codespace/.local/lib/python3.12/site-packages (from requests) (2.3.0)\n",
      "Requirement already satisfied: certifi>=2017.4.17 in /home/codespace/.local/lib/python3.12/site-packages (from requests) (2025.1.31)\n",
      "\n",
      "\u001b[1m[\u001b[0m\u001b[34;49mnotice\u001b[0m\u001b[1;39;49m]\u001b[0m\u001b[39;49m A new release of pip is available: \u001b[0m\u001b[31;49m25.0.1\u001b[0m\u001b[39;49m -> \u001b[0m\u001b[32;49m25.1\u001b[0m\n",
      "\u001b[1m[\u001b[0m\u001b[34;49mnotice\u001b[0m\u001b[1;39;49m]\u001b[0m\u001b[39;49m To update, run: \u001b[0m\u001b[32;49mpip install --upgrade pip\u001b[0m\n",
      "Note: you may need to restart the kernel to use updated packages.\n"
     ]
    }
   ],
   "source": [
    "# 🔧 Instalar dependências (só precisa executar uma vez no Codespaces)\n",
    "%pip install requests\n",
    "\n",
    "\n"
   ]
  },
  {
   "cell_type": "code",
   "execution_count": 2,
   "id": "68b2297c",
   "metadata": {},
   "outputs": [],
   "source": [
    "import requests"
   ]
  },
  {
   "cell_type": "code",
   "execution_count": 3,
   "id": "44366c72",
   "metadata": {},
   "outputs": [],
   "source": [
    "# 🔍 Função para buscar anime pelo nome\n",
    "def buscar_anime(nome_anime):\n",
    "    url = f\"https://api.jikan.moe/v4/anime?q={nome_anime}&limit=1\"\n",
    "    resposta = requests.get(url)\n",
    "\n",
    "    if resposta.status_code == 200:\n",
    "        dados = resposta.json()\n",
    "        if dados[\"data\"]:\n",
    "            anime = dados[\"data\"][0]\n",
    "            titulo = anime[\"title\"]\n",
    "            sinopse = anime[\"synopsis\"]\n",
    "            link = anime[\"url\"]\n",
    "            return {\n",
    "                \"Título\": titulo,\n",
    "                \"Link\": link,\n",
    "                \"Sinopse\": sinopse\n",
    "            }\n",
    "        else:\n",
    "            return {\"Erro\": \"Anime não encontrado.\"}\n",
    "    else:\n",
    "        return {\"Erro\": \"Erro na API.\"}\n"
   ]
  },
  {
   "cell_type": "code",
   "execution_count": 6,
   "id": "9dcdfa8d",
   "metadata": {},
   "outputs": [
    {
     "data": {
      "text/plain": [
       "{'Título': 'Pokemon',\n",
       " 'Link': 'https://myanimelist.net/anime/527/Pokemon',\n",
       " 'Sinopse': 'Pokémon are peculiar creatures with a vast array of different abilities and appearances; many people, known as Pokémon trainers, capture and train them, often with the intent of battling others. Young Satoshi has not only dreamed of becoming a Pokémon trainer but also a \"Pokémon Master,\" and on the arrival of his 10th birthday, he finally has a chance to make that dream a reality. Unfortunately for him, all three Pokémon available to beginning trainers have already been claimed and only Pikachu, a rebellious Electric-type Pokémon, remains. However, this chance encounter would mark the start of a lifelong friendship and an epic adventure!\\n\\nSetting off on a journey to become the very best, Satoshi and Pikachu travel across beautiful, sprawling regions with their friends Kasumi, a Water-type trainer, and Takeshi, a Rock-type trainer. But danger lurks around every corner. The infamous Team Rocket is always nearby, seeking to steal powerful Pokémon through nefarious schemes. It\\'ll be up to Satoshi and his friends to thwart their efforts as he also strives to earn the eight Pokémon Gym Badges he\\'ll need to challenge the Pokémon League, and eventually claim the title of Pokémon Master. \\n\\n[Written by MAL Rewrite]'}"
      ]
     },
     "execution_count": 6,
     "metadata": {},
     "output_type": "execute_result"
    }
   ],
   "source": [
    "# ▶️ Testar a função com um anime\n",
    "resultado = buscar_anime(\"pokemon\")\n",
    "resultado\n"
   ]
  }
 ],
 "metadata": {
  "kernelspec": {
   "display_name": "Python 3",
   "language": "python",
   "name": "python3"
  },
  "language_info": {
   "codemirror_mode": {
    "name": "ipython",
    "version": 3
   },
   "file_extension": ".py",
   "mimetype": "text/x-python",
   "name": "python",
   "nbconvert_exporter": "python",
   "pygments_lexer": "ipython3",
   "version": "3.12.1"
  }
 },
 "nbformat": 4,
 "nbformat_minor": 5
}
